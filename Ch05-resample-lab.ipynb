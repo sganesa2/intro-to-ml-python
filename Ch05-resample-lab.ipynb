{
 "cells": [
  {
   "cell_type": "code",
   "execution_count": 1,
   "id": "f1deb5cc",
   "metadata": {
    "execution": {
     "iopub.execute_input": "2025-04-03T19:33:23.204499Z",
     "iopub.status.busy": "2025-04-03T19:33:23.204390Z",
     "iopub.status.idle": "2025-04-03T19:33:23.819021Z",
     "shell.execute_reply": "2025-04-03T19:33:23.818655Z"
    },
    "lines_to_next_cell": 2
   },
   "outputs": [],
   "source": [
    "import numpy as np\n",
    "import statsmodels.api as sm\n",
    "from ISLP import load_data\n",
    "from ISLP.models import (ModelSpec as MS,\n",
    "                         summarize,\n",
    "                         poly)\n",
    "from sklearn.model_selection import train_test_split\n"
   ]
  },
  {
   "cell_type": "markdown",
   "id": "afa08b62",
   "metadata": {},
   "source": [
    "There are several new imports needed for this lab."
   ]
  },
  {
   "cell_type": "code",
   "execution_count": 2,
   "id": "268c41b3",
   "metadata": {
    "execution": {
     "iopub.execute_input": "2025-04-03T19:33:23.820788Z",
     "iopub.status.busy": "2025-04-03T19:33:23.820641Z",
     "iopub.status.idle": "2025-04-03T19:33:23.822663Z",
     "shell.execute_reply": "2025-04-03T19:33:23.822416Z"
    },
    "lines_to_next_cell": 2
   },
   "outputs": [],
   "source": [
    "from functools import partial\n",
    "from sklearn.model_selection import \\\n",
    "     (cross_validate,\n",
    "      KFold,\n",
    "      ShuffleSplit)\n",
    "from sklearn.base import clone\n",
    "from ISLP.models import sklearn_sm\n"
   ]
  },
  {
   "cell_type": "code",
   "execution_count": 16,
   "id": "22f44ae0",
   "metadata": {
    "execution": {
     "iopub.execute_input": "2025-04-03T19:33:23.823864Z",
     "iopub.status.busy": "2025-04-03T19:33:23.823764Z",
     "iopub.status.idle": "2025-04-03T19:33:23.829383Z",
     "shell.execute_reply": "2025-04-03T19:33:23.829160Z"
    }
   },
   "outputs": [],
   "source": [
    "Auto = load_data('Auto')\n",
    "Auto_train, Auto_valid = train_test_split(Auto,\n",
    "                                         test_size=196,\n",
    "                                         random_state=0)\n"
   ]
  },
  {
   "cell_type": "code",
   "execution_count": 15,
   "id": "dd298608",
   "metadata": {},
   "outputs": [
    {
     "name": "stderr",
     "output_type": "stream",
     "text": [
      "/Users/srini_x62/Dropbox/Mac/Documents/github_repos/intro-to-ml-python/.venv/lib/python3.11/site-packages/statsmodels/base/model.py:130: ValueWarning: unknown kwargs ['famil']\n",
      "  warnings.warn(msg, ValueWarning)\n"
     ]
    },
    {
     "data": {
      "text/html": [
       "<div>\n",
       "<style scoped>\n",
       "    .dataframe tbody tr th:only-of-type {\n",
       "        vertical-align: middle;\n",
       "    }\n",
       "\n",
       "    .dataframe tbody tr th {\n",
       "        vertical-align: top;\n",
       "    }\n",
       "\n",
       "    .dataframe thead th {\n",
       "        text-align: right;\n",
       "    }\n",
       "</style>\n",
       "<table border=\"1\" class=\"dataframe\">\n",
       "  <thead>\n",
       "    <tr style=\"text-align: right;\">\n",
       "      <th></th>\n",
       "      <th>coef</th>\n",
       "      <th>std err</th>\n",
       "      <th>z</th>\n",
       "      <th>P&gt;|z|</th>\n",
       "    </tr>\n",
       "  </thead>\n",
       "  <tbody>\n",
       "    <tr>\n",
       "      <th>intercept</th>\n",
       "      <td>-21.5579</td>\n",
       "      <td>6.902</td>\n",
       "      <td>-3.123</td>\n",
       "      <td>0.002</td>\n",
       "    </tr>\n",
       "    <tr>\n",
       "      <th>cylinders</th>\n",
       "      <td>-0.1219</td>\n",
       "      <td>0.524</td>\n",
       "      <td>-0.233</td>\n",
       "      <td>0.816</td>\n",
       "    </tr>\n",
       "    <tr>\n",
       "      <th>displacement</th>\n",
       "      <td>0.0132</td>\n",
       "      <td>0.012</td>\n",
       "      <td>1.127</td>\n",
       "      <td>0.260</td>\n",
       "    </tr>\n",
       "    <tr>\n",
       "      <th>horsepower</th>\n",
       "      <td>-0.0119</td>\n",
       "      <td>0.020</td>\n",
       "      <td>-0.608</td>\n",
       "      <td>0.543</td>\n",
       "    </tr>\n",
       "    <tr>\n",
       "      <th>weight</th>\n",
       "      <td>-0.0064</td>\n",
       "      <td>0.001</td>\n",
       "      <td>-7.264</td>\n",
       "      <td>0.000</td>\n",
       "    </tr>\n",
       "    <tr>\n",
       "      <th>acceleration</th>\n",
       "      <td>0.1769</td>\n",
       "      <td>0.134</td>\n",
       "      <td>1.322</td>\n",
       "      <td>0.186</td>\n",
       "    </tr>\n",
       "    <tr>\n",
       "      <th>year</th>\n",
       "      <td>0.7712</td>\n",
       "      <td>0.074</td>\n",
       "      <td>10.389</td>\n",
       "      <td>0.000</td>\n",
       "    </tr>\n",
       "    <tr>\n",
       "      <th>origin</th>\n",
       "      <td>1.3472</td>\n",
       "      <td>0.401</td>\n",
       "      <td>3.360</td>\n",
       "      <td>0.001</td>\n",
       "    </tr>\n",
       "  </tbody>\n",
       "</table>\n",
       "</div>"
      ],
      "text/plain": [
       "                 coef  std err       z  P>|z|\n",
       "intercept    -21.5579    6.902  -3.123  0.002\n",
       "cylinders     -0.1219    0.524  -0.233  0.816\n",
       "displacement   0.0132    0.012   1.127  0.260\n",
       "horsepower    -0.0119    0.020  -0.608  0.543\n",
       "weight        -0.0064    0.001  -7.264  0.000\n",
       "acceleration   0.1769    0.134   1.322  0.186\n",
       "year           0.7712    0.074  10.389  0.000\n",
       "origin         1.3472    0.401   3.360  0.001"
      ]
     },
     "execution_count": 15,
     "metadata": {},
     "output_type": "execute_result"
    }
   ],
   "source": [
    "auto_df =load_data(\"Auto\")\n",
    "x_df = auto_df.drop(columns = ['mpg']).reset_index(drop=True)\n",
    "y = auto_df['mpg'].reset_index(drop=True)\n",
    "x_train, x_test, y_train, y_test = train_test_split(x_df,\n",
    "                                   y,\n",
    "                                   test_size = 196,\n",
    "                                   random_state = 0)\n",
    "\n",
    "ms = MS(terms= x_df.columns)\n",
    "x_train, x_test = ms.fit_transform(x_train), ms.fit_transform(x_test)\n",
    "model = sm.GLM(y_train,x_train, famil = sm.families.Binomial()).fit()\n",
    "summarize(model)"
   ]
  },
  {
   "cell_type": "markdown",
   "id": "318fe69f",
   "metadata": {},
   "source": [
    "Now we can fit a linear regression using only the observations corresponding to the training set `Auto_train`."
   ]
  },
  {
   "cell_type": "code",
   "execution_count": 17,
   "id": "0c32e917",
   "metadata": {
    "execution": {
     "iopub.execute_input": "2025-04-03T19:33:23.830793Z",
     "iopub.status.busy": "2025-04-03T19:33:23.830713Z",
     "iopub.status.idle": "2025-04-03T19:33:23.834993Z",
     "shell.execute_reply": "2025-04-03T19:33:23.834789Z"
    }
   },
   "outputs": [],
   "source": [
    "hp_mm = MS(['horsepower'])\n",
    "X_train = hp_mm.fit_transform(Auto_train)\n",
    "y_train = Auto_train['mpg']\n",
    "model = sm.OLS(y_train, X_train)\n",
    "results = model.fit()\n"
   ]
  },
  {
   "cell_type": "code",
   "execution_count": 20,
   "id": "86ce4f85",
   "metadata": {
    "execution": {
     "iopub.execute_input": "2025-04-03T19:33:23.836150Z",
     "iopub.status.busy": "2025-04-03T19:33:23.836082Z",
     "iopub.status.idle": "2025-04-03T19:33:23.839814Z",
     "shell.execute_reply": "2025-04-03T19:33:23.839608Z"
    }
   },
   "outputs": [
    {
     "data": {
      "text/plain": [
       "np.float64(23.616617069669893)"
      ]
     },
     "execution_count": 20,
     "metadata": {},
     "output_type": "execute_result"
    }
   ],
   "source": [
    "X_valid = hp_mm.transform(Auto_valid)\n",
    "y_valid = Auto_valid['mpg']\n",
    "valid_pred = results.predict(X_valid)\n",
    "np.mean((y_valid - valid_pred)**2)\n"
   ]
  },
  {
   "cell_type": "code",
   "execution_count": 21,
   "id": "50a66a97",
   "metadata": {
    "execution": {
     "iopub.execute_input": "2025-04-03T19:33:23.841088Z",
     "iopub.status.busy": "2025-04-03T19:33:23.841015Z",
     "iopub.status.idle": "2025-04-03T19:33:23.843031Z",
     "shell.execute_reply": "2025-04-03T19:33:23.842838Z"
    }
   },
   "outputs": [],
   "source": [
    "def evalMSE(terms,\n",
    "            response,\n",
    "            train,\n",
    "            test):\n",
    "\n",
    "   mm = MS(terms)\n",
    "   X_train = mm.fit_transform(train)\n",
    "   y_train = train[response]\n",
    "\n",
    "   X_test = mm.transform(test)\n",
    "   y_test = test[response]\n",
    "\n",
    "   results = sm.OLS(y_train, X_train).fit()\n",
    "   test_pred = results.predict(X_test)\n",
    "\n",
    "   return np.mean((y_test - test_pred)**2)\n"
   ]
  },
  {
   "cell_type": "markdown",
   "id": "a255779c",
   "metadata": {},
   "source": [
    "Let’s use this function to estimate the validation MSE\n",
    "using linear, quadratic and cubic fits. We use the `enumerate()`  function\n",
    "here, which gives both the values and indices of objects as one iterates\n",
    "over a for loop."
   ]
  },
  {
   "cell_type": "code",
   "execution_count": 23,
   "id": "d49b6999",
   "metadata": {
    "execution": {
     "iopub.execute_input": "2025-04-03T19:33:23.844166Z",
     "iopub.status.busy": "2025-04-03T19:33:23.844091Z",
     "iopub.status.idle": "2025-04-03T19:33:23.855875Z",
     "shell.execute_reply": "2025-04-03T19:33:23.855640Z"
    }
   },
   "outputs": [
    {
     "data": {
      "text/plain": [
       "array([23.61661707, 18.76303135, 18.79694163])"
      ]
     },
     "execution_count": 23,
     "metadata": {},
     "output_type": "execute_result"
    }
   ],
   "source": [
    "mse = np.zeros(3)\n",
    "for i,degree in enumerate(range(1,4)):\n",
    "    mse[i] = evalMSE(terms = [poly('horsepower', degree=degree)],\n",
    "                     response = \"mpg\",\n",
    "                     train=Auto_train,\n",
    "                     test=Auto_valid)\n",
    "mse"
   ]
  },
  {
   "cell_type": "markdown",
   "id": "9d7b8fc1",
   "metadata": {},
   "source": [
    "These error rates are $23.62, 18.76$, and $18.80$, respectively. If we\n",
    "choose a different training/validation split instead, then we\n",
    "can expect somewhat different errors on the validation set."
   ]
  },
  {
   "cell_type": "code",
   "execution_count": 8,
   "id": "dac8bd54",
   "metadata": {
    "execution": {
     "iopub.execute_input": "2025-04-03T19:33:23.857092Z",
     "iopub.status.busy": "2025-04-03T19:33:23.857011Z",
     "iopub.status.idle": "2025-04-03T19:33:23.868361Z",
     "shell.execute_reply": "2025-04-03T19:33:23.868136Z"
    }
   },
   "outputs": [
    {
     "data": {
      "text/plain": [
       "array([20.75540796, 16.94510676, 16.97437833])"
      ]
     },
     "execution_count": 8,
     "metadata": {},
     "output_type": "execute_result"
    }
   ],
   "source": [
    "Auto_train, Auto_valid = train_test_split(Auto,\n",
    "                                          test_size=196,\n",
    "                                          random_state=3)\n",
    "MSE = np.zeros(3)\n",
    "for idx, degree in enumerate(range(1, 4)):\n",
    "    MSE[idx] = evalMSE([poly('horsepower', degree)],\n",
    "                       'mpg',\n",
    "                       Auto_train,\n",
    "                       Auto_valid)\n",
    "MSE"
   ]
  },
  {
   "cell_type": "code",
   "execution_count": 25,
   "id": "601ae443",
   "metadata": {
    "execution": {
     "iopub.execute_input": "2025-04-03T19:33:23.869578Z",
     "iopub.status.busy": "2025-04-03T19:33:23.869501Z",
     "iopub.status.idle": "2025-04-03T19:33:24.584127Z",
     "shell.execute_reply": "2025-04-03T19:33:24.583898Z"
    },
    "lines_to_next_cell": 0
   },
   "outputs": [
    {
     "data": {
      "text/plain": [
       "np.float64(24.231513517929226)"
      ]
     },
     "execution_count": 25,
     "metadata": {},
     "output_type": "execute_result"
    }
   ],
   "source": [
    "hp_model = sklearn_sm(sm.OLS,\n",
    "                      MS(['horsepower']))\n",
    "X, Y = Auto.drop(columns=['mpg']), Auto['mpg']\n",
    "cv_results = cross_validate(hp_model,\n",
    "                            X,\n",
    "                            Y,\n",
    "                            cv=Auto.shape[0])\n",
    "cv_err = np.mean(cv_results['test_score'])\n",
    "cv_err\n"
   ]
  },
  {
   "cell_type": "markdown",
   "id": "ebadc35f",
   "metadata": {},
   "source": [
    "The arguments to `cross_validate()` are as follows: an\n",
    "object with the appropriate `fit()`, `predict()`,\n",
    "and `score()` methods,  an\n",
    "array of features `X` and a response `Y`. \n",
    "We also included an additional argument `cv` to `cross_validate()`; specifying an integer\n",
    "$k$ results in $k$-fold cross-validation. We have provided a value \n",
    "corresponding to the total number of observations, which results in\n",
    "leave-one-out cross-validation (LOOCV). The `cross_validate()`  function produces a dictionary with several components;\n",
    "we simply want the cross-validated test score here (MSE), which is estimated to be 24.23."
   ]
  },
  {
   "cell_type": "markdown",
   "id": "25f47b99",
   "metadata": {},
   "source": [
    "We can repeat this procedure for increasingly complex polynomial fits.\n",
    "To automate the process, we again\n",
    "use a for loop which iteratively fits polynomial\n",
    "regressions of degree 1 to 5, computes the\n",
    "associated cross-validation error, and stores it in the $i$th element\n",
    "of the vector `cv_error`. The variable `d` in the for loop\n",
    "corresponds to the degree of the polynomial. We begin by initializing the\n",
    "vector. This command may take a couple of seconds to run."
   ]
  },
  {
   "cell_type": "code",
   "execution_count": 26,
   "id": "11226c85",
   "metadata": {
    "execution": {
     "iopub.execute_input": "2025-04-03T19:33:24.585528Z",
     "iopub.status.busy": "2025-04-03T19:33:24.585450Z",
     "iopub.status.idle": "2025-04-03T19:33:25.124201Z",
     "shell.execute_reply": "2025-04-03T19:33:25.123913Z"
    },
    "lines_to_next_cell": 0
   },
   "outputs": [
    {
     "data": {
      "text/plain": [
       "array([24.23151352, 19.24821312, 19.33498406, 19.4244303 , 19.03321527])"
      ]
     },
     "execution_count": 26,
     "metadata": {},
     "output_type": "execute_result"
    }
   ],
   "source": [
    "cv_error = np.zeros(5)\n",
    "H = np.array(Auto['horsepower'])\n",
    "M = sklearn_sm(sm.OLS)\n",
    "for i, d in enumerate(range(1,6)):\n",
    "    X = np.power.outer(H, np.arange(d+1))\n",
    "    M_CV = cross_validate(M,\n",
    "                          X,\n",
    "                          Y,\n",
    "                          cv=Auto.shape[0])\n",
    "    cv_error[i] = np.mean(M_CV['test_score'])\n",
    "cv_error\n"
   ]
  },
  {
   "cell_type": "code",
   "execution_count": 11,
   "id": "64b64d97",
   "metadata": {
    "execution": {
     "iopub.execute_input": "2025-04-03T19:33:25.125598Z",
     "iopub.status.busy": "2025-04-03T19:33:25.125513Z",
     "iopub.status.idle": "2025-04-03T19:33:25.127886Z",
     "shell.execute_reply": "2025-04-03T19:33:25.127667Z"
    }
   },
   "outputs": [
    {
     "data": {
      "text/plain": [
       "array([[ 5,  7],\n",
       "       [ 7,  9],\n",
       "       [11, 13]])"
      ]
     },
     "execution_count": 11,
     "metadata": {},
     "output_type": "execute_result"
    }
   ],
   "source": [
    "A = np.array([3, 5, 9])\n",
    "B = np.array([2, 4])\n",
    "np.add.outer(A, B)\n"
   ]
  },
  {
   "cell_type": "markdown",
   "id": "71385c1b",
   "metadata": {},
   "source": [
    "In the CV example above, we used $k=n$, but of course we can also use $k<n$. The code is very similar\n",
    "to the above (and is significantly faster). Here we use `KFold()` to partition the data into $k=10$ random groups. We use `random_state` to set a random seed and initialize a vector `cv_error` in which we will store the CV errors corresponding to the\n",
    "polynomial fits of degrees one to five."
   ]
  },
  {
   "cell_type": "code",
   "execution_count": 32,
   "id": "ca0f972f",
   "metadata": {
    "execution": {
     "iopub.execute_input": "2025-04-03T19:33:25.129127Z",
     "iopub.status.busy": "2025-04-03T19:33:25.129050Z",
     "iopub.status.idle": "2025-04-03T19:33:25.149889Z",
     "shell.execute_reply": "2025-04-03T19:33:25.149644Z"
    },
    "lines_to_next_cell": 0
   },
   "outputs": [
    {
     "data": {
      "text/plain": [
       "array([24.129309  , 19.16472771, 19.30299359])"
      ]
     },
     "execution_count": 32,
     "metadata": {},
     "output_type": "execute_result"
    }
   ],
   "source": [
    "k_folds = KFold(n_splits = 5, shuffle=True, random_state=0)\n",
    "model = sklearn_sm(sm.OLS)\n",
    "H = np.array(Auto['horsepower'])\n",
    "Y = Auto['mpg']\n",
    "mse = np.zeros(3)\n",
    "\n",
    "for i, d in enumerate(range(1,4)):\n",
    "    X = np.power.outer(H, np.arange(d+1))\n",
    "    cross_valobj = cross_validate(\n",
    "        model,\n",
    "        X,\n",
    "        Y,\n",
    "        cv = k_folds\n",
    "    )\n",
    "    mse[i] = np.mean(cross_valobj[\"test_score\"])\n",
    "mse\n"
   ]
  },
  {
   "cell_type": "code",
   "execution_count": 13,
   "id": "080cdb29",
   "metadata": {
    "execution": {
     "iopub.execute_input": "2025-04-03T19:33:25.151147Z",
     "iopub.status.busy": "2025-04-03T19:33:25.151072Z",
     "iopub.status.idle": "2025-04-03T19:33:25.156751Z",
     "shell.execute_reply": "2025-04-03T19:33:25.156501Z"
    },
    "lines_to_next_cell": 2
   },
   "outputs": [
    {
     "data": {
      "text/plain": [
       "array([23.61661707])"
      ]
     },
     "execution_count": 13,
     "metadata": {},
     "output_type": "execute_result"
    }
   ],
   "source": [
    "validation = ShuffleSplit(n_splits=1,\n",
    "                          test_size=196,\n",
    "                          random_state=0)\n",
    "results = cross_validate(hp_model,\n",
    "                         Auto.drop(['mpg'], axis=1),\n",
    "                         Auto['mpg'],\n",
    "                         cv=validation);\n",
    "results['test_score']\n"
   ]
  },
  {
   "cell_type": "markdown",
   "id": "b2f4b4cf",
   "metadata": {},
   "source": [
    "One can estimate the variability in the test error by running the following:"
   ]
  },
  {
   "cell_type": "code",
   "execution_count": 33,
   "id": "7c46de2b",
   "metadata": {
    "execution": {
     "iopub.execute_input": "2025-04-03T19:33:25.158025Z",
     "iopub.status.busy": "2025-04-03T19:33:25.157939Z",
     "iopub.status.idle": "2025-04-03T19:33:25.182100Z",
     "shell.execute_reply": "2025-04-03T19:33:25.181888Z"
    }
   },
   "outputs": [
    {
     "data": {
      "text/plain": [
       "(np.float64(23.802232661034168), np.float64(1.4218450941091916))"
      ]
     },
     "execution_count": 33,
     "metadata": {},
     "output_type": "execute_result"
    }
   ],
   "source": [
    "validation = ShuffleSplit(n_splits=10,\n",
    "                          test_size=196,\n",
    "                          random_state=0)\n",
    "results = cross_validate(hp_model,\n",
    "                         Auto.drop(['mpg'], axis=1),\n",
    "                         Auto['mpg'],\n",
    "                         cv=validation)\n",
    "results['test_score'].mean(), results['test_score'].std()\n"
   ]
  },
  {
   "cell_type": "markdown",
   "id": "07165f0e",
   "metadata": {},
   "source": [
    "Note that this standard deviation is not a valid estimate of the\n",
    "sampling variability of the mean test score or the individual scores, since the randomly-selected training\n",
    "samples overlap and hence introduce correlations. But it does give an\n",
    "idea of the Monte Carlo variation\n",
    "incurred by picking different random folds.\n",
    "\n",
    "## The Bootstrap\n",
    "We illustrate the use of the bootstrap in the simple example\n",
    " {of Section 5.2,}  as well as on an example involving\n",
    "estimating the accuracy of the linear regression model on the  `Auto`\n",
    "data set.\n",
    "### Estimating the Accuracy of a Statistic of Interest\n",
    "One of the great advantages of the bootstrap approach is that it can\n",
    "be applied in almost all situations. No complicated mathematical\n",
    "calculations are required. While there are several implementations\n",
    "of the bootstrap in Python, its use for estimating\n",
    "standard error is simple enough that we write our own function\n",
    "below for the case when our data is stored\n",
    "in a dataframe.\n",
    "\n",
    "To illustrate the bootstrap, we\n",
    "start with a simple example.\n",
    "The  `Portfolio`  data set in the `ISLP` package is described\n",
    "in Section 5.2. The goal is to estimate the\n",
    "sampling variance of the parameter $\\alpha$ given in formula~(5.7).  We will\n",
    "create a function\n",
    "`alpha_func()`, which takes as input a dataframe `D` assumed\n",
    "to have columns `X` and `Y`, as well as a\n",
    "vector `idx` indicating which observations should be used to\n",
    "estimate \n",
    "$\\alpha$. The function then outputs the estimate for $\\alpha$ based on\n",
    "the selected observations."
   ]
  },
  {
   "cell_type": "code",
   "execution_count": 34,
   "id": "a4b6d9b3",
   "metadata": {
    "execution": {
     "iopub.execute_input": "2025-04-03T19:33:25.183403Z",
     "iopub.status.busy": "2025-04-03T19:33:25.183320Z",
     "iopub.status.idle": "2025-04-03T19:33:25.186088Z",
     "shell.execute_reply": "2025-04-03T19:33:25.185890Z"
    },
    "lines_to_next_cell": 0
   },
   "outputs": [],
   "source": [
    "Portfolio = load_data('Portfolio')\n",
    "def alpha_func(D, idx):\n",
    "   cov_ = np.cov(D[['X','Y']].loc[idx], rowvar=False)\n",
    "   return ((cov_[1,1] - cov_[0,1]) /\n",
    "           (cov_[0,0]+cov_[1,1]-2*cov_[0,1]))\n"
   ]
  },
  {
   "cell_type": "markdown",
   "id": "9d50058e",
   "metadata": {},
   "source": [
    "This function returns an estimate for $\\alpha$\n",
    "based on applying the minimum\n",
    "    variance formula (5.7) to the observations indexed by\n",
    "the argument `idx`.  For instance, the following command\n",
    "estimates $\\alpha$ using all 100 observations."
   ]
  },
  {
   "cell_type": "code",
   "execution_count": 35,
   "id": "81498a11",
   "metadata": {
    "execution": {
     "iopub.execute_input": "2025-04-03T19:33:25.187384Z",
     "iopub.status.busy": "2025-04-03T19:33:25.187299Z",
     "iopub.status.idle": "2025-04-03T19:33:25.189610Z",
     "shell.execute_reply": "2025-04-03T19:33:25.189413Z"
    }
   },
   "outputs": [
    {
     "data": {
      "text/plain": [
       "np.float64(0.57583207459283)"
      ]
     },
     "execution_count": 35,
     "metadata": {},
     "output_type": "execute_result"
    }
   ],
   "source": [
    "alpha_func(Portfolio, range(100))"
   ]
  },
  {
   "cell_type": "code",
   "execution_count": 38,
   "id": "89e20172",
   "metadata": {},
   "outputs": [
    {
     "data": {
      "text/plain": [
       "array([85, 63])"
      ]
     },
     "execution_count": 38,
     "metadata": {},
     "output_type": "execute_result"
    }
   ],
   "source": [
    "rng = np.random.default_rng(0)\n",
    "rng.choice(100,2, replace=True)"
   ]
  },
  {
   "cell_type": "code",
   "execution_count": 36,
   "id": "64fe1cb6",
   "metadata": {
    "execution": {
     "iopub.execute_input": "2025-04-03T19:33:25.190738Z",
     "iopub.status.busy": "2025-04-03T19:33:25.190670Z",
     "iopub.status.idle": "2025-04-03T19:33:25.193250Z",
     "shell.execute_reply": "2025-04-03T19:33:25.193037Z"
    },
    "lines_to_next_cell": 2
   },
   "outputs": [
    {
     "data": {
      "text/plain": [
       "np.float64(0.6074452469619002)"
      ]
     },
     "execution_count": 36,
     "metadata": {},
     "output_type": "execute_result"
    }
   ],
   "source": [
    "rng = np.random.default_rng(0)\n",
    "alpha_func(Portfolio,\n",
    "           rng.choice(100,\n",
    "                      100,\n",
    "                      replace=True))"
   ]
  },
  {
   "cell_type": "markdown",
   "id": "91a635fe",
   "metadata": {},
   "source": [
    "This process can be generalized to create a simple function `boot_SE()` for\n",
    "computing the bootstrap standard error for arbitrary\n",
    "functions that take only a data frame as an argument."
   ]
  },
  {
   "cell_type": "code",
   "execution_count": 39,
   "id": "dd16bbae",
   "metadata": {
    "execution": {
     "iopub.execute_input": "2025-04-03T19:33:25.194520Z",
     "iopub.status.busy": "2025-04-03T19:33:25.194445Z",
     "iopub.status.idle": "2025-04-03T19:33:25.196804Z",
     "shell.execute_reply": "2025-04-03T19:33:25.196574Z"
    },
    "lines_to_next_cell": 0
   },
   "outputs": [],
   "source": [
    "def boot_SE(func,\n",
    "            D,\n",
    "            n=None,\n",
    "            B=1000,\n",
    "            seed=0):\n",
    "    rng = np.random.default_rng(seed)\n",
    "    first_, second_ = 0, 0\n",
    "    n = n or D.shape[0]\n",
    "    for _ in range(B):\n",
    "        idx = rng.choice(D.index,\n",
    "                         n,\n",
    "                         replace=True)\n",
    "        value = func(D, idx)\n",
    "        first_ += value\n",
    "        second_ += value**2\n",
    "    return np.sqrt(second_ / B - (first_ / B)**2)"
   ]
  },
  {
   "cell_type": "markdown",
   "id": "ac4e17ed",
   "metadata": {},
   "source": [
    "Notice the use of `_` as a loop variable in `for _ in range(B)`. This is often used if the value of the counter is\n",
    "unimportant and simply makes sure  the loop is executed `B` times.\n",
    "\n",
    "Let’s use our function to evaluate the accuracy of our\n",
    "estimate of $\\alpha$ using $B=1{,}000$ bootstrap replications. "
   ]
  },
  {
   "cell_type": "code",
   "execution_count": 40,
   "id": "b42b4585",
   "metadata": {
    "execution": {
     "iopub.execute_input": "2025-04-03T19:33:25.198086Z",
     "iopub.status.busy": "2025-04-03T19:33:25.198011Z",
     "iopub.status.idle": "2025-04-03T19:33:25.394494Z",
     "shell.execute_reply": "2025-04-03T19:33:25.394181Z"
    }
   },
   "outputs": [
    {
     "data": {
      "text/plain": [
       "np.float64(0.09118176521277699)"
      ]
     },
     "execution_count": 40,
     "metadata": {},
     "output_type": "execute_result"
    }
   ],
   "source": [
    "alpha_SE = boot_SE(alpha_func,\n",
    "                   Portfolio,\n",
    "                   B=1000,\n",
    "                   seed=0)\n",
    "alpha_SE\n"
   ]
  },
  {
   "cell_type": "code",
   "execution_count": 41,
   "id": "6bc11784",
   "metadata": {
    "execution": {
     "iopub.execute_input": "2025-04-03T19:33:25.396011Z",
     "iopub.status.busy": "2025-04-03T19:33:25.395917Z",
     "iopub.status.idle": "2025-04-03T19:33:25.397893Z",
     "shell.execute_reply": "2025-04-03T19:33:25.397676Z"
    },
    "lines_to_next_cell": 0
   },
   "outputs": [],
   "source": [
    "def boot_OLS(model_matrix, response, D, idx):\n",
    "    D_ = D.loc[idx]\n",
    "    Y_ = D_[response]\n",
    "    X_ = clone(model_matrix).fit_transform(D_)\n",
    "    return sm.OLS(Y_, X_).fit().params"
   ]
  },
  {
   "cell_type": "code",
   "execution_count": 43,
   "id": "740cd50c",
   "metadata": {
    "execution": {
     "iopub.execute_input": "2025-04-03T19:33:25.399076Z",
     "iopub.status.busy": "2025-04-03T19:33:25.398999Z",
     "iopub.status.idle": "2025-04-03T19:33:25.400599Z",
     "shell.execute_reply": "2025-04-03T19:33:25.400346Z"
    },
    "lines_to_next_cell": 0
   },
   "outputs": [],
   "source": [
    "hp_func = partial(boot_OLS, MS(['horsepower']), 'mpg')\n"
   ]
  },
  {
   "cell_type": "code",
   "execution_count": 44,
   "id": "ffb3ec50",
   "metadata": {
    "execution": {
     "iopub.execute_input": "2025-04-03T19:33:25.401753Z",
     "iopub.status.busy": "2025-04-03T19:33:25.401682Z",
     "iopub.status.idle": "2025-04-03T19:33:25.422622Z",
     "shell.execute_reply": "2025-04-03T19:33:25.422385Z"
    },
    "lines_to_next_cell": 0
   },
   "outputs": [
    {
     "data": {
      "text/plain": [
       "array([[39.12226577, -0.1555926 ],\n",
       "       [37.18648613, -0.13915813],\n",
       "       [37.46989244, -0.14112749],\n",
       "       [38.56723252, -0.14830116],\n",
       "       [38.95495707, -0.15315141],\n",
       "       [39.12563927, -0.15261044],\n",
       "       [38.45763251, -0.14767251],\n",
       "       [38.43372587, -0.15019447],\n",
       "       [37.87581142, -0.1409544 ],\n",
       "       [37.95949036, -0.1451333 ]])"
      ]
     },
     "execution_count": 44,
     "metadata": {},
     "output_type": "execute_result"
    }
   ],
   "source": [
    "rng = np.random.default_rng(0)\n",
    "np.array([hp_func(Auto,\n",
    "          rng.choice(Auto.index,\n",
    "                     392,\n",
    "                     replace=True)) for _ in range(10)])\n"
   ]
  },
  {
   "cell_type": "markdown",
   "id": "c6d09d96",
   "metadata": {},
   "source": [
    "Next, we use the `boot_SE()` {}  function to compute the standard\n",
    "errors of 1,000 bootstrap estimates for the intercept and slope terms."
   ]
  },
  {
   "cell_type": "code",
   "execution_count": 23,
   "id": "7d561f70",
   "metadata": {
    "execution": {
     "iopub.execute_input": "2025-04-03T19:33:25.423860Z",
     "iopub.status.busy": "2025-04-03T19:33:25.423786Z",
     "iopub.status.idle": "2025-04-03T19:33:27.089093Z",
     "shell.execute_reply": "2025-04-03T19:33:27.088869Z"
    },
    "lines_to_next_cell": 2
   },
   "outputs": [
    {
     "data": {
      "text/plain": [
       "intercept     0.731176\n",
       "horsepower    0.006092\n",
       "dtype: float64"
      ]
     },
     "execution_count": 23,
     "metadata": {},
     "output_type": "execute_result"
    }
   ],
   "source": [
    "hp_se = boot_SE(hp_func,\n",
    "                Auto,\n",
    "                B=1000,\n",
    "                seed=10)\n",
    "hp_se\n"
   ]
  },
  {
   "cell_type": "markdown",
   "id": "a834f240",
   "metadata": {},
   "source": [
    "This indicates that the bootstrap estimate for ${\\rm SE}(\\hat{\\beta}_0)$ is\n",
    "0.85, and that the bootstrap\n",
    "estimate for ${\\rm SE}(\\hat{\\beta}_1)$ is\n",
    "0.0074.  As discussed in\n",
    "Section 3.1.2, standard formulas can be used to compute\n",
    "the standard errors for the regression coefficients in a linear\n",
    "model. These can be obtained using the `summarize()`  function\n",
    "from `ISLP.sm`."
   ]
  },
  {
   "cell_type": "code",
   "execution_count": 24,
   "id": "3888aa0a",
   "metadata": {
    "execution": {
     "iopub.execute_input": "2025-04-03T19:33:27.090386Z",
     "iopub.status.busy": "2025-04-03T19:33:27.090313Z",
     "iopub.status.idle": "2025-04-03T19:33:27.106785Z",
     "shell.execute_reply": "2025-04-03T19:33:27.106554Z"
    },
    "lines_to_next_cell": 2
   },
   "outputs": [
    {
     "data": {
      "text/plain": [
       "intercept     0.717\n",
       "horsepower    0.006\n",
       "Name: std err, dtype: float64"
      ]
     },
     "execution_count": 24,
     "metadata": {},
     "output_type": "execute_result"
    }
   ],
   "source": [
    "hp_model.fit(Auto, Auto['mpg'])\n",
    "model_se = summarize(hp_model.results_)['std err']\n",
    "model_se\n"
   ]
  },
  {
   "cell_type": "markdown",
   "id": "aefc0575",
   "metadata": {},
   "source": [
    "The standard error estimates for $\\hat{\\beta}_0$ and $\\hat{\\beta}_1$\n",
    "obtained using the formulas  from Section 3.1.2  are\n",
    "0.717 for the\n",
    "intercept and\n",
    "0.006 for the\n",
    "slope. Interestingly, these are somewhat different from the estimates\n",
    "obtained using the bootstrap.  Does this indicate a problem with the\n",
    "bootstrap? In fact, it suggests the opposite.  Recall that the\n",
    "standard formulas given in\n",
    " {Equation 3.8 on page 75}\n",
    "rely on certain assumptions. For example,\n",
    "they depend on the unknown parameter $\\sigma^2$, the noise\n",
    "variance. We then estimate $\\sigma^2$ using the RSS. Now although the\n",
    "formulas for the standard errors do not rely on the linear model being\n",
    "correct, the estimate for $\\sigma^2$ does.  We see\n",
    " {in Figure 3.8 on page 99}  that there is\n",
    "a non-linear relationship in the data, and so the residuals from a\n",
    "linear fit will be inflated, and so will $\\hat{\\sigma}^2$.  Secondly,\n",
    "the standard formulas assume (somewhat unrealistically) that the $x_i$\n",
    "are fixed, and all the variability comes from the variation in the\n",
    "errors $\\epsilon_i$.  The bootstrap approach does not rely on any of\n",
    "these assumptions, and so it is likely giving a more accurate estimate\n",
    "of the standard errors of $\\hat{\\beta}_0$ and $\\hat{\\beta}_1$ than\n",
    "the results from `sm.OLS`.\n",
    "\n",
    "Below we compute the bootstrap standard error estimates and the\n",
    "standard linear regression estimates that result from fitting the\n",
    "quadratic model to the data. Since this model provides a good fit to\n",
    "the data (Figure 3.8), there is now a better\n",
    "correspondence between the bootstrap estimates and the standard\n",
    "estimates of ${\\rm SE}(\\hat{\\beta}_0)$, ${\\rm SE}(\\hat{\\beta}_1)$ and\n",
    "${\\rm SE}(\\hat{\\beta}_2)$."
   ]
  },
  {
   "cell_type": "code",
   "execution_count": 25,
   "id": "acc3e32c",
   "metadata": {
    "execution": {
     "iopub.execute_input": "2025-04-03T19:33:27.108124Z",
     "iopub.status.busy": "2025-04-03T19:33:27.108030Z",
     "iopub.status.idle": "2025-04-03T19:33:29.434320Z",
     "shell.execute_reply": "2025-04-03T19:33:29.434045Z"
    }
   },
   "outputs": [
    {
     "data": {
      "text/plain": [
       "intercept                                  1.538641\n",
       "poly(horsepower, degree=2, raw=True)[0]    0.024696\n",
       "poly(horsepower, degree=2, raw=True)[1]    0.000090\n",
       "dtype: float64"
      ]
     },
     "execution_count": 25,
     "metadata": {},
     "output_type": "execute_result"
    }
   ],
   "source": [
    "quad_model = MS([poly('horsepower', 2, raw=True)])\n",
    "quad_func = partial(boot_OLS,\n",
    "                    quad_model,\n",
    "                    'mpg')\n",
    "boot_SE(quad_func, Auto, B=1000)\n"
   ]
  },
  {
   "cell_type": "markdown",
   "id": "e8a2fd2b",
   "metadata": {},
   "source": [
    "We  compare the results to the standard errors computed using `sm.OLS()`."
   ]
  },
  {
   "cell_type": "code",
   "execution_count": 26,
   "id": "dca5340c",
   "metadata": {
    "execution": {
     "iopub.execute_input": "2025-04-03T19:33:29.435689Z",
     "iopub.status.busy": "2025-04-03T19:33:29.435602Z",
     "iopub.status.idle": "2025-04-03T19:33:29.444726Z",
     "shell.execute_reply": "2025-04-03T19:33:29.444464Z"
    },
    "lines_to_next_cell": 0
   },
   "outputs": [
    {
     "data": {
      "text/plain": [
       "intercept                                  1.800\n",
       "poly(horsepower, degree=2, raw=True)[0]    0.031\n",
       "poly(horsepower, degree=2, raw=True)[1]    0.000\n",
       "Name: std err, dtype: float64"
      ]
     },
     "execution_count": 26,
     "metadata": {},
     "output_type": "execute_result"
    }
   ],
   "source": [
    "M = sm.OLS(Auto['mpg'],\n",
    "           quad_model.fit_transform(Auto))\n",
    "summarize(M.fit())['std err']\n"
   ]
  },
  {
   "cell_type": "markdown",
   "id": "e98297be",
   "metadata": {},
   "source": [
    "\n",
    "\n"
   ]
  }
 ],
 "metadata": {
  "jupytext": {
   "cell_metadata_filter": "-all",
   "formats": "ipynb,Rmd",
   "main_language": "python"
  },
  "kernelspec": {
   "display_name": "intro-to-ml-python",
   "language": "python",
   "name": "python3"
  },
  "language_info": {
   "codemirror_mode": {
    "name": "ipython",
    "version": 3
   },
   "file_extension": ".py",
   "mimetype": "text/x-python",
   "name": "python",
   "nbconvert_exporter": "python",
   "pygments_lexer": "ipython3",
   "version": "3.11.9"
  }
 },
 "nbformat": 4,
 "nbformat_minor": 5
}
